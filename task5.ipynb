{
 "cells": [
  {
   "cell_type": "code",
   "execution_count": 1,
   "id": "6b677eda-bfc4-4214-8cbf-0516ac69d6f8",
   "metadata": {},
   "outputs": [
    {
     "name": "stdout",
     "output_type": "stream",
     "text": [
      "Requirement already satisfied: jupyter in c:\\users\\kavya\\anaconda3\\lib\\site-packages (1.1.1)\n",
      "Requirement already satisfied: pandas in c:\\users\\kavya\\anaconda3\\lib\\site-packages (2.2.3)\n",
      "Requirement already satisfied: matplotlib in c:\\users\\kavya\\anaconda3\\lib\\site-packages (3.10.0)\n",
      "Requirement already satisfied: seaborn in c:\\users\\kavya\\anaconda3\\lib\\site-packages (0.13.2)\n",
      "Requirement already satisfied: scipy in c:\\users\\kavya\\anaconda3\\lib\\site-packages (1.15.3)\n",
      "Requirement already satisfied: notebook in c:\\users\\kavya\\anaconda3\\lib\\site-packages (from jupyter) (7.3.2)\n",
      "Requirement already satisfied: jupyter-console in c:\\users\\kavya\\anaconda3\\lib\\site-packages (from jupyter) (6.6.3)\n",
      "Requirement already satisfied: nbconvert in c:\\users\\kavya\\anaconda3\\lib\\site-packages (from jupyter) (7.16.6)\n",
      "Requirement already satisfied: ipykernel in c:\\users\\kavya\\anaconda3\\lib\\site-packages (from jupyter) (6.29.5)\n",
      "Requirement already satisfied: ipywidgets in c:\\users\\kavya\\anaconda3\\lib\\site-packages (from jupyter) (8.1.5)\n",
      "Requirement already satisfied: jupyterlab in c:\\users\\kavya\\anaconda3\\lib\\site-packages (from jupyter) (4.3.4)\n",
      "Requirement already satisfied: numpy>=1.26.0 in c:\\users\\kavya\\anaconda3\\lib\\site-packages (from pandas) (2.1.3)\n",
      "Requirement already satisfied: python-dateutil>=2.8.2 in c:\\users\\kavya\\anaconda3\\lib\\site-packages (from pandas) (2.9.0.post0)\n",
      "Requirement already satisfied: pytz>=2020.1 in c:\\users\\kavya\\anaconda3\\lib\\site-packages (from pandas) (2024.1)\n",
      "Requirement already satisfied: tzdata>=2022.7 in c:\\users\\kavya\\anaconda3\\lib\\site-packages (from pandas) (2025.2)\n",
      "Requirement already satisfied: contourpy>=1.0.1 in c:\\users\\kavya\\anaconda3\\lib\\site-packages (from matplotlib) (1.3.1)\n",
      "Requirement already satisfied: cycler>=0.10 in c:\\users\\kavya\\anaconda3\\lib\\site-packages (from matplotlib) (0.11.0)\n",
      "Requirement already satisfied: fonttools>=4.22.0 in c:\\users\\kavya\\anaconda3\\lib\\site-packages (from matplotlib) (4.55.3)\n",
      "Requirement already satisfied: kiwisolver>=1.3.1 in c:\\users\\kavya\\anaconda3\\lib\\site-packages (from matplotlib) (1.4.8)\n",
      "Requirement already satisfied: packaging>=20.0 in c:\\users\\kavya\\anaconda3\\lib\\site-packages (from matplotlib) (24.2)\n",
      "Requirement already satisfied: pillow>=8 in c:\\users\\kavya\\anaconda3\\lib\\site-packages (from matplotlib) (11.1.0)\n",
      "Requirement already satisfied: pyparsing>=2.3.1 in c:\\users\\kavya\\anaconda3\\lib\\site-packages (from matplotlib) (3.2.0)\n",
      "Requirement already satisfied: six>=1.5 in c:\\users\\kavya\\anaconda3\\lib\\site-packages (from python-dateutil>=2.8.2->pandas) (1.17.0)\n",
      "Requirement already satisfied: comm>=0.1.1 in c:\\users\\kavya\\anaconda3\\lib\\site-packages (from ipykernel->jupyter) (0.2.1)\n",
      "Requirement already satisfied: debugpy>=1.6.5 in c:\\users\\kavya\\anaconda3\\lib\\site-packages (from ipykernel->jupyter) (1.8.11)\n",
      "Requirement already satisfied: ipython>=7.23.1 in c:\\users\\kavya\\anaconda3\\lib\\site-packages (from ipykernel->jupyter) (8.30.0)\n",
      "Requirement already satisfied: jupyter-client>=6.1.12 in c:\\users\\kavya\\anaconda3\\lib\\site-packages (from ipykernel->jupyter) (8.6.3)\n",
      "Requirement already satisfied: jupyter-core!=5.0.*,>=4.12 in c:\\users\\kavya\\anaconda3\\lib\\site-packages (from ipykernel->jupyter) (5.7.2)\n",
      "Requirement already satisfied: matplotlib-inline>=0.1 in c:\\users\\kavya\\anaconda3\\lib\\site-packages (from ipykernel->jupyter) (0.1.6)\n",
      "Requirement already satisfied: nest-asyncio in c:\\users\\kavya\\anaconda3\\lib\\site-packages (from ipykernel->jupyter) (1.6.0)\n",
      "Requirement already satisfied: psutil in c:\\users\\kavya\\anaconda3\\lib\\site-packages (from ipykernel->jupyter) (5.9.0)\n",
      "Requirement already satisfied: pyzmq>=24 in c:\\users\\kavya\\anaconda3\\lib\\site-packages (from ipykernel->jupyter) (26.2.0)\n",
      "Requirement already satisfied: tornado>=6.1 in c:\\users\\kavya\\anaconda3\\lib\\site-packages (from ipykernel->jupyter) (6.5.1)\n",
      "Requirement already satisfied: traitlets>=5.4.0 in c:\\users\\kavya\\anaconda3\\lib\\site-packages (from ipykernel->jupyter) (5.14.3)\n",
      "Requirement already satisfied: decorator in c:\\users\\kavya\\anaconda3\\lib\\site-packages (from ipython>=7.23.1->ipykernel->jupyter) (5.1.1)\n",
      "Requirement already satisfied: jedi>=0.16 in c:\\users\\kavya\\anaconda3\\lib\\site-packages (from ipython>=7.23.1->ipykernel->jupyter) (0.19.2)\n",
      "Requirement already satisfied: prompt-toolkit<3.1.0,>=3.0.41 in c:\\users\\kavya\\anaconda3\\lib\\site-packages (from ipython>=7.23.1->ipykernel->jupyter) (3.0.43)\n",
      "Requirement already satisfied: pygments>=2.4.0 in c:\\users\\kavya\\anaconda3\\lib\\site-packages (from ipython>=7.23.1->ipykernel->jupyter) (2.19.1)\n",
      "Requirement already satisfied: stack-data in c:\\users\\kavya\\anaconda3\\lib\\site-packages (from ipython>=7.23.1->ipykernel->jupyter) (0.2.0)\n",
      "Requirement already satisfied: colorama in c:\\users\\kavya\\anaconda3\\lib\\site-packages (from ipython>=7.23.1->ipykernel->jupyter) (0.4.6)\n",
      "Requirement already satisfied: wcwidth in c:\\users\\kavya\\anaconda3\\lib\\site-packages (from prompt-toolkit<3.1.0,>=3.0.41->ipython>=7.23.1->ipykernel->jupyter) (0.2.5)\n",
      "Requirement already satisfied: parso<0.9.0,>=0.8.4 in c:\\users\\kavya\\anaconda3\\lib\\site-packages (from jedi>=0.16->ipython>=7.23.1->ipykernel->jupyter) (0.8.4)\n",
      "Requirement already satisfied: platformdirs>=2.5 in c:\\users\\kavya\\anaconda3\\lib\\site-packages (from jupyter-core!=5.0.*,>=4.12->ipykernel->jupyter) (4.3.7)\n",
      "Requirement already satisfied: pywin32>=300 in c:\\users\\kavya\\anaconda3\\lib\\site-packages (from jupyter-core!=5.0.*,>=4.12->ipykernel->jupyter) (308)\n",
      "Requirement already satisfied: widgetsnbextension~=4.0.12 in c:\\users\\kavya\\anaconda3\\lib\\site-packages (from ipywidgets->jupyter) (4.0.13)\n",
      "Requirement already satisfied: jupyterlab_widgets~=3.0.12 in c:\\users\\kavya\\anaconda3\\lib\\site-packages (from ipywidgets->jupyter) (3.0.13)\n",
      "Requirement already satisfied: async-lru>=1.0.0 in c:\\users\\kavya\\anaconda3\\lib\\site-packages (from jupyterlab->jupyter) (2.0.4)\n",
      "Requirement already satisfied: httpx>=0.25.0 in c:\\users\\kavya\\anaconda3\\lib\\site-packages (from jupyterlab->jupyter) (0.28.1)\n",
      "Requirement already satisfied: jinja2>=3.0.3 in c:\\users\\kavya\\anaconda3\\lib\\site-packages (from jupyterlab->jupyter) (3.1.6)\n",
      "Requirement already satisfied: jupyter-lsp>=2.0.0 in c:\\users\\kavya\\anaconda3\\lib\\site-packages (from jupyterlab->jupyter) (2.2.5)\n",
      "Requirement already satisfied: jupyter-server<3,>=2.4.0 in c:\\users\\kavya\\anaconda3\\lib\\site-packages (from jupyterlab->jupyter) (2.15.0)\n",
      "Requirement already satisfied: jupyterlab-server<3,>=2.27.1 in c:\\users\\kavya\\anaconda3\\lib\\site-packages (from jupyterlab->jupyter) (2.27.3)\n",
      "Requirement already satisfied: notebook-shim>=0.2 in c:\\users\\kavya\\anaconda3\\lib\\site-packages (from jupyterlab->jupyter) (0.2.4)\n",
      "Requirement already satisfied: setuptools>=40.8.0 in c:\\users\\kavya\\anaconda3\\lib\\site-packages (from jupyterlab->jupyter) (72.1.0)\n",
      "Requirement already satisfied: anyio>=3.1.0 in c:\\users\\kavya\\anaconda3\\lib\\site-packages (from jupyter-server<3,>=2.4.0->jupyterlab->jupyter) (4.7.0)\n",
      "Requirement already satisfied: argon2-cffi>=21.1 in c:\\users\\kavya\\anaconda3\\lib\\site-packages (from jupyter-server<3,>=2.4.0->jupyterlab->jupyter) (21.3.0)\n",
      "Requirement already satisfied: jupyter-events>=0.11.0 in c:\\users\\kavya\\anaconda3\\lib\\site-packages (from jupyter-server<3,>=2.4.0->jupyterlab->jupyter) (0.12.0)\n",
      "Requirement already satisfied: jupyter-server-terminals>=0.4.4 in c:\\users\\kavya\\anaconda3\\lib\\site-packages (from jupyter-server<3,>=2.4.0->jupyterlab->jupyter) (0.5.3)\n",
      "Requirement already satisfied: nbformat>=5.3.0 in c:\\users\\kavya\\anaconda3\\lib\\site-packages (from jupyter-server<3,>=2.4.0->jupyterlab->jupyter) (5.10.4)\n",
      "Requirement already satisfied: overrides>=5.0 in c:\\users\\kavya\\anaconda3\\lib\\site-packages (from jupyter-server<3,>=2.4.0->jupyterlab->jupyter) (7.4.0)\n",
      "Requirement already satisfied: prometheus-client>=0.9 in c:\\users\\kavya\\anaconda3\\lib\\site-packages (from jupyter-server<3,>=2.4.0->jupyterlab->jupyter) (0.21.1)\n",
      "Requirement already satisfied: pywinpty>=2.0.1 in c:\\users\\kavya\\anaconda3\\lib\\site-packages (from jupyter-server<3,>=2.4.0->jupyterlab->jupyter) (2.0.15)\n",
      "Requirement already satisfied: send2trash>=1.8.2 in c:\\users\\kavya\\anaconda3\\lib\\site-packages (from jupyter-server<3,>=2.4.0->jupyterlab->jupyter) (1.8.2)\n",
      "Requirement already satisfied: terminado>=0.8.3 in c:\\users\\kavya\\anaconda3\\lib\\site-packages (from jupyter-server<3,>=2.4.0->jupyterlab->jupyter) (0.17.1)\n",
      "Requirement already satisfied: websocket-client>=1.7 in c:\\users\\kavya\\anaconda3\\lib\\site-packages (from jupyter-server<3,>=2.4.0->jupyterlab->jupyter) (1.8.0)\n",
      "Requirement already satisfied: babel>=2.10 in c:\\users\\kavya\\anaconda3\\lib\\site-packages (from jupyterlab-server<3,>=2.27.1->jupyterlab->jupyter) (2.16.0)\n",
      "Requirement already satisfied: json5>=0.9.0 in c:\\users\\kavya\\anaconda3\\lib\\site-packages (from jupyterlab-server<3,>=2.27.1->jupyterlab->jupyter) (0.9.25)\n",
      "Requirement already satisfied: jsonschema>=4.18.0 in c:\\users\\kavya\\anaconda3\\lib\\site-packages (from jupyterlab-server<3,>=2.27.1->jupyterlab->jupyter) (4.23.0)\n",
      "Requirement already satisfied: requests>=2.31 in c:\\users\\kavya\\anaconda3\\lib\\site-packages (from jupyterlab-server<3,>=2.27.1->jupyterlab->jupyter) (2.32.3)\n",
      "Requirement already satisfied: idna>=2.8 in c:\\users\\kavya\\anaconda3\\lib\\site-packages (from anyio>=3.1.0->jupyter-server<3,>=2.4.0->jupyterlab->jupyter) (3.7)\n",
      "Requirement already satisfied: sniffio>=1.1 in c:\\users\\kavya\\anaconda3\\lib\\site-packages (from anyio>=3.1.0->jupyter-server<3,>=2.4.0->jupyterlab->jupyter) (1.3.0)\n",
      "Requirement already satisfied: argon2-cffi-bindings in c:\\users\\kavya\\anaconda3\\lib\\site-packages (from argon2-cffi>=21.1->jupyter-server<3,>=2.4.0->jupyterlab->jupyter) (21.2.0)\n",
      "Requirement already satisfied: certifi in c:\\users\\kavya\\anaconda3\\lib\\site-packages (from httpx>=0.25.0->jupyterlab->jupyter) (2025.4.26)\n",
      "Requirement already satisfied: httpcore==1.* in c:\\users\\kavya\\anaconda3\\lib\\site-packages (from httpx>=0.25.0->jupyterlab->jupyter) (1.0.9)\n",
      "Requirement already satisfied: h11>=0.16 in c:\\users\\kavya\\anaconda3\\lib\\site-packages (from httpcore==1.*->httpx>=0.25.0->jupyterlab->jupyter) (0.16.0)\n",
      "Requirement already satisfied: MarkupSafe>=2.0 in c:\\users\\kavya\\anaconda3\\lib\\site-packages (from jinja2>=3.0.3->jupyterlab->jupyter) (3.0.2)\n",
      "Requirement already satisfied: attrs>=22.2.0 in c:\\users\\kavya\\anaconda3\\lib\\site-packages (from jsonschema>=4.18.0->jupyterlab-server<3,>=2.27.1->jupyterlab->jupyter) (24.3.0)\n",
      "Requirement already satisfied: jsonschema-specifications>=2023.03.6 in c:\\users\\kavya\\anaconda3\\lib\\site-packages (from jsonschema>=4.18.0->jupyterlab-server<3,>=2.27.1->jupyterlab->jupyter) (2023.7.1)\n",
      "Requirement already satisfied: referencing>=0.28.4 in c:\\users\\kavya\\anaconda3\\lib\\site-packages (from jsonschema>=4.18.0->jupyterlab-server<3,>=2.27.1->jupyterlab->jupyter) (0.30.2)\n",
      "Requirement already satisfied: rpds-py>=0.7.1 in c:\\users\\kavya\\anaconda3\\lib\\site-packages (from jsonschema>=4.18.0->jupyterlab-server<3,>=2.27.1->jupyterlab->jupyter) (0.22.3)\n",
      "Requirement already satisfied: python-json-logger>=2.0.4 in c:\\users\\kavya\\anaconda3\\lib\\site-packages (from jupyter-events>=0.11.0->jupyter-server<3,>=2.4.0->jupyterlab->jupyter) (3.2.1)\n",
      "Requirement already satisfied: pyyaml>=5.3 in c:\\users\\kavya\\anaconda3\\lib\\site-packages (from jupyter-events>=0.11.0->jupyter-server<3,>=2.4.0->jupyterlab->jupyter) (6.0.2)\n",
      "Requirement already satisfied: rfc3339-validator in c:\\users\\kavya\\anaconda3\\lib\\site-packages (from jupyter-events>=0.11.0->jupyter-server<3,>=2.4.0->jupyterlab->jupyter) (0.1.4)\n",
      "Requirement already satisfied: rfc3986-validator>=0.1.1 in c:\\users\\kavya\\anaconda3\\lib\\site-packages (from jupyter-events>=0.11.0->jupyter-server<3,>=2.4.0->jupyterlab->jupyter) (0.1.1)\n",
      "Collecting fqdn (from jsonschema[format-nongpl]>=4.18.0->jupyter-events>=0.11.0->jupyter-server<3,>=2.4.0->jupyterlab->jupyter)\n",
      "  Downloading fqdn-1.5.1-py3-none-any.whl.metadata (1.4 kB)\n",
      "Collecting isoduration (from jsonschema[format-nongpl]>=4.18.0->jupyter-events>=0.11.0->jupyter-server<3,>=2.4.0->jupyterlab->jupyter)\n",
      "  Downloading isoduration-20.11.0-py3-none-any.whl.metadata (5.7 kB)\n",
      "Requirement already satisfied: jsonpointer>1.13 in c:\\users\\kavya\\anaconda3\\lib\\site-packages (from jsonschema[format-nongpl]>=4.18.0->jupyter-events>=0.11.0->jupyter-server<3,>=2.4.0->jupyterlab->jupyter) (2.1)\n",
      "Collecting uri-template (from jsonschema[format-nongpl]>=4.18.0->jupyter-events>=0.11.0->jupyter-server<3,>=2.4.0->jupyterlab->jupyter)\n",
      "  Downloading uri_template-1.3.0-py3-none-any.whl.metadata (8.8 kB)\n",
      "Collecting webcolors>=24.6.0 (from jsonschema[format-nongpl]>=4.18.0->jupyter-events>=0.11.0->jupyter-server<3,>=2.4.0->jupyterlab->jupyter)\n",
      "  Downloading webcolors-24.11.1-py3-none-any.whl.metadata (2.2 kB)\n",
      "Requirement already satisfied: beautifulsoup4 in c:\\users\\kavya\\anaconda3\\lib\\site-packages (from nbconvert->jupyter) (4.12.3)\n",
      "Requirement already satisfied: bleach!=5.0.0 in c:\\users\\kavya\\anaconda3\\lib\\site-packages (from bleach[css]!=5.0.0->nbconvert->jupyter) (6.2.0)\n",
      "Requirement already satisfied: defusedxml in c:\\users\\kavya\\anaconda3\\lib\\site-packages (from nbconvert->jupyter) (0.7.1)\n",
      "Requirement already satisfied: jupyterlab-pygments in c:\\users\\kavya\\anaconda3\\lib\\site-packages (from nbconvert->jupyter) (0.3.0)\n",
      "Requirement already satisfied: mistune<4,>=2.0.3 in c:\\users\\kavya\\anaconda3\\lib\\site-packages (from nbconvert->jupyter) (3.1.2)\n",
      "Requirement already satisfied: nbclient>=0.5.0 in c:\\users\\kavya\\anaconda3\\lib\\site-packages (from nbconvert->jupyter) (0.10.2)\n",
      "Requirement already satisfied: pandocfilters>=1.4.1 in c:\\users\\kavya\\anaconda3\\lib\\site-packages (from nbconvert->jupyter) (1.5.0)\n",
      "Requirement already satisfied: webencodings in c:\\users\\kavya\\anaconda3\\lib\\site-packages (from bleach!=5.0.0->bleach[css]!=5.0.0->nbconvert->jupyter) (0.5.1)\n",
      "Requirement already satisfied: tinycss2<1.5,>=1.1.0 in c:\\users\\kavya\\anaconda3\\lib\\site-packages (from bleach[css]!=5.0.0->nbconvert->jupyter) (1.4.0)\n",
      "Requirement already satisfied: fastjsonschema>=2.15 in c:\\users\\kavya\\anaconda3\\lib\\site-packages (from nbformat>=5.3.0->jupyter-server<3,>=2.4.0->jupyterlab->jupyter) (2.20.0)\n",
      "Requirement already satisfied: charset-normalizer<4,>=2 in c:\\users\\kavya\\anaconda3\\lib\\site-packages (from requests>=2.31->jupyterlab-server<3,>=2.27.1->jupyterlab->jupyter) (3.3.2)\n",
      "Requirement already satisfied: urllib3<3,>=1.21.1 in c:\\users\\kavya\\anaconda3\\lib\\site-packages (from requests>=2.31->jupyterlab-server<3,>=2.27.1->jupyterlab->jupyter) (2.3.0)\n",
      "Requirement already satisfied: cffi>=1.0.1 in c:\\users\\kavya\\anaconda3\\lib\\site-packages (from argon2-cffi-bindings->argon2-cffi>=21.1->jupyter-server<3,>=2.4.0->jupyterlab->jupyter) (1.17.1)\n",
      "Requirement already satisfied: pycparser in c:\\users\\kavya\\anaconda3\\lib\\site-packages (from cffi>=1.0.1->argon2-cffi-bindings->argon2-cffi>=21.1->jupyter-server<3,>=2.4.0->jupyterlab->jupyter) (2.21)\n",
      "Requirement already satisfied: soupsieve>1.2 in c:\\users\\kavya\\anaconda3\\lib\\site-packages (from beautifulsoup4->nbconvert->jupyter) (2.5)\n",
      "Requirement already satisfied: arrow>=0.15.0 in c:\\users\\kavya\\anaconda3\\lib\\site-packages (from isoduration->jsonschema[format-nongpl]>=4.18.0->jupyter-events>=0.11.0->jupyter-server<3,>=2.4.0->jupyterlab->jupyter) (1.3.0)\n",
      "Requirement already satisfied: executing in c:\\users\\kavya\\anaconda3\\lib\\site-packages (from stack-data->ipython>=7.23.1->ipykernel->jupyter) (0.8.3)\n",
      "Requirement already satisfied: asttokens in c:\\users\\kavya\\anaconda3\\lib\\site-packages (from stack-data->ipython>=7.23.1->ipykernel->jupyter) (3.0.0)\n",
      "Requirement already satisfied: pure-eval in c:\\users\\kavya\\anaconda3\\lib\\site-packages (from stack-data->ipython>=7.23.1->ipykernel->jupyter) (0.2.2)\n",
      "Downloading webcolors-24.11.1-py3-none-any.whl (14 kB)\n",
      "Downloading fqdn-1.5.1-py3-none-any.whl (9.1 kB)\n",
      "Downloading isoduration-20.11.0-py3-none-any.whl (11 kB)\n",
      "Downloading uri_template-1.3.0-py3-none-any.whl (11 kB)\n",
      "Installing collected packages: webcolors, uri-template, fqdn, isoduration\n",
      "\n",
      "   ---------------------------------------- 4/4 [isoduration]\n",
      "\n",
      "Successfully installed fqdn-1.5.1 isoduration-20.11.0 uri-template-1.3.0 webcolors-24.11.1\n",
      "Note: you may need to restart the kernel to use updated packages.\n"
     ]
    }
   ],
   "source": [
    "pip install jupyter pandas matplotlib seaborn scipy\n"
   ]
  },
  {
   "cell_type": "code",
   "execution_count": 3,
   "id": "5cf9f8ec-dfc7-49a6-855b-80a5f027415e",
   "metadata": {},
   "outputs": [],
   "source": [
    "import zipfile\n",
    "import os\n",
    "import pandas as pd\n",
    "import numpy as np\n",
    "import matplotlib.pyplot as plt\n",
    "import seaborn as sns\n",
    "from scipy import stats\n",
    "\n",
    "sns.set(style=\"whitegrid\", context=\"notebook\")\n",
    "%matplotlib inline\n"
   ]
  },
  {
   "cell_type": "code",
   "execution_count": 19,
   "id": "92a0ea1a-6890-4053-b20a-6cfe10c30753",
   "metadata": {},
   "outputs": [
    {
     "name": "stdout",
     "output_type": "stream",
     "text": [
      "ZIP contents: ['gender_submission.csv', 'test.csv', 'train.csv']\n",
      "CSV files found: ['gender_submission.csv', 'test.csv', 'train.csv']\n",
      "gender_submission.csv (418, 2)\n",
      "test.csv (418, 11)\n",
      "train.csv (891, 12)\n"
     ]
    }
   ],
   "source": [
    "zip_path = zip_path = r\"C:\\Users\\kavya\\Downloads\\titanic.zip\"   \n",
    "\n",
    "\n",
    "with zipfile.ZipFile(zip_path) as z:\n",
    "    print(\"ZIP contents:\", z.namelist())\n",
    "    csv_files = [n for n in z.namelist() if n.lower().endswith('.csv')]\n",
    "    print(\"CSV files found:\", csv_files)\n",
    "    data = {}\n",
    "    for name in csv_files:\n",
    "        data[name] = pd.read_csv(z.open(name))\n",
    "\n",
    "\n",
    "for name, df in data.items():\n",
    "    print(name, df.shape)\n"
   ]
  },
  {
   "cell_type": "code",
   "execution_count": 20,
   "id": "f4593272-4c40-4907-8a9b-df4b5b8976ee",
   "metadata": {},
   "outputs": [
    {
     "data": {
      "text/html": [
       "<div>\n",
       "<style scoped>\n",
       "    .dataframe tbody tr th:only-of-type {\n",
       "        vertical-align: middle;\n",
       "    }\n",
       "\n",
       "    .dataframe tbody tr th {\n",
       "        vertical-align: top;\n",
       "    }\n",
       "\n",
       "    .dataframe thead th {\n",
       "        text-align: right;\n",
       "    }\n",
       "</style>\n",
       "<table border=\"1\" class=\"dataframe\">\n",
       "  <thead>\n",
       "    <tr style=\"text-align: right;\">\n",
       "      <th></th>\n",
       "      <th>PassengerId</th>\n",
       "      <th>Survived</th>\n",
       "    </tr>\n",
       "  </thead>\n",
       "  <tbody>\n",
       "    <tr>\n",
       "      <th>0</th>\n",
       "      <td>892</td>\n",
       "      <td>0</td>\n",
       "    </tr>\n",
       "    <tr>\n",
       "      <th>1</th>\n",
       "      <td>893</td>\n",
       "      <td>1</td>\n",
       "    </tr>\n",
       "    <tr>\n",
       "      <th>2</th>\n",
       "      <td>894</td>\n",
       "      <td>0</td>\n",
       "    </tr>\n",
       "    <tr>\n",
       "      <th>3</th>\n",
       "      <td>895</td>\n",
       "      <td>0</td>\n",
       "    </tr>\n",
       "    <tr>\n",
       "      <th>4</th>\n",
       "      <td>896</td>\n",
       "      <td>1</td>\n",
       "    </tr>\n",
       "  </tbody>\n",
       "</table>\n",
       "</div>"
      ],
      "text/plain": [
       "   PassengerId  Survived\n",
       "0          892         0\n",
       "1          893         1\n",
       "2          894         0\n",
       "3          895         0\n",
       "4          896         1"
      ]
     },
     "execution_count": 20,
     "metadata": {},
     "output_type": "execute_result"
    }
   ],
   "source": [
    "\n",
    "main_file = list(data.keys())[0]   \n",
    "df = data[main_file].copy()\n",
    "df.head()\n"
   ]
  },
  {
   "cell_type": "code",
   "execution_count": 9,
   "id": "dea91bf0-eb5c-4efc-90a9-f35e1983a239",
   "metadata": {},
   "outputs": [
    {
     "name": "stdout",
     "output_type": "stream",
     "text": [
      "Shape: (418, 2)\n",
      "<class 'pandas.core.frame.DataFrame'>\n",
      "RangeIndex: 418 entries, 0 to 417\n",
      "Data columns (total 2 columns):\n",
      " #   Column       Non-Null Count  Dtype\n",
      "---  ------       --------------  -----\n",
      " 0   PassengerId  418 non-null    int64\n",
      " 1   Survived     418 non-null    int64\n",
      "dtypes: int64(2)\n",
      "memory usage: 6.7 KB\n"
     ]
    },
    {
     "data": {
      "text/html": [
       "<div>\n",
       "<style scoped>\n",
       "    .dataframe tbody tr th:only-of-type {\n",
       "        vertical-align: middle;\n",
       "    }\n",
       "\n",
       "    .dataframe tbody tr th {\n",
       "        vertical-align: top;\n",
       "    }\n",
       "\n",
       "    .dataframe thead th {\n",
       "        text-align: right;\n",
       "    }\n",
       "</style>\n",
       "<table border=\"1\" class=\"dataframe\">\n",
       "  <thead>\n",
       "    <tr style=\"text-align: right;\">\n",
       "      <th></th>\n",
       "      <th>count</th>\n",
       "      <th>mean</th>\n",
       "      <th>std</th>\n",
       "      <th>min</th>\n",
       "      <th>25%</th>\n",
       "      <th>50%</th>\n",
       "      <th>75%</th>\n",
       "      <th>max</th>\n",
       "    </tr>\n",
       "  </thead>\n",
       "  <tbody>\n",
       "    <tr>\n",
       "      <th>PassengerId</th>\n",
       "      <td>418.0</td>\n",
       "      <td>1100.500000</td>\n",
       "      <td>120.810458</td>\n",
       "      <td>892.0</td>\n",
       "      <td>996.25</td>\n",
       "      <td>1100.5</td>\n",
       "      <td>1204.75</td>\n",
       "      <td>1309.0</td>\n",
       "    </tr>\n",
       "    <tr>\n",
       "      <th>Survived</th>\n",
       "      <td>418.0</td>\n",
       "      <td>0.363636</td>\n",
       "      <td>0.481622</td>\n",
       "      <td>0.0</td>\n",
       "      <td>0.00</td>\n",
       "      <td>0.0</td>\n",
       "      <td>1.00</td>\n",
       "      <td>1.0</td>\n",
       "    </tr>\n",
       "  </tbody>\n",
       "</table>\n",
       "</div>"
      ],
      "text/plain": [
       "             count         mean         std    min     25%     50%      75%  \\\n",
       "PassengerId  418.0  1100.500000  120.810458  892.0  996.25  1100.5  1204.75   \n",
       "Survived     418.0     0.363636    0.481622    0.0    0.00     0.0     1.00   \n",
       "\n",
       "                max  \n",
       "PassengerId  1309.0  \n",
       "Survived        1.0  "
      ]
     },
     "execution_count": 9,
     "metadata": {},
     "output_type": "execute_result"
    }
   ],
   "source": [
    "print(\"Shape:\", df.shape)\n",
    "df.info()\n",
    "df.describe(include='all').T\n"
   ]
  },
  {
   "cell_type": "code",
   "execution_count": 10,
   "id": "fe7cfe06-b7cb-4718-970f-70bf73407c61",
   "metadata": {},
   "outputs": [
    {
     "name": "stdout",
     "output_type": "stream",
     "text": [
      "Missing values:\n",
      " Series([], dtype: int64)\n",
      "Duplicate rows: 0\n"
     ]
    }
   ],
   "source": [
    "missing = df.isnull().sum().sort_values(ascending=False)\n",
    "print(\"Missing values:\\n\", missing[missing>0])\n",
    "print(\"Duplicate rows:\", df.duplicated().sum())\n"
   ]
  },
  {
   "cell_type": "code",
   "execution_count": 12,
   "id": "e429ae8d-ae5a-49b8-868c-f9f5d16f7f61",
   "metadata": {},
   "outputs": [],
   "source": [
    "\n",
    "df_raw = df.copy()\n",
    "\n",
    "\n",
    "if 'Embarked' in df.columns:\n",
    "    df['Embarked'].fillna(df['Embarked'].mode()[0], inplace=True)\n",
    "\n",
    "\n",
    "if 'Fare' in df.columns and df['Fare'].isnull().any():\n",
    "    df['Fare'].fillna(df['Fare'].median(), inplace=True)\n",
    "\n",
    "# Cabin -> create Deck and CabinMissing\n",
    "if 'Cabin' in df.columns:\n",
    "    df['Deck'] = df['Cabin'].dropna().astype(str).str[0]\n",
    "    df['Deck'] = df['Deck'].fillna('U')        # U = Unknown\n",
    "    df['CabinMissing'] = df['Cabin'].isnull().astype(int)\n",
    "\n",
    "# Age: fill by median grouped on Sex & Pclass (if those columns exist)\n",
    "if 'Age' in df.columns and df['Age'].isnull().any():\n",
    "    if set(['Sex','Pclass']).issubset(df.columns):\n",
    "        df['Age'] = df['Age'].fillna(df.groupby(['Sex','Pclass'])['Age'].transform('median'))\n",
    "    else:\n",
    "        df['Age'] = df['Age'].fillna(df['Age'].median())\n"
   ]
  },
  {
   "cell_type": "code",
   "execution_count": 13,
   "id": "1dc5041a-fc74-41c2-9935-5b602351beea",
   "metadata": {},
   "outputs": [],
   "source": [
    "# Title from Name (if Name exists)\n",
    "if 'Name' in df.columns:\n",
    "    df['Title'] = df['Name'].str.extract(r',\\s*([^.]*)\\.', expand=False).str.strip()\n",
    "    # combine rare titles\n",
    "    rare_titles = ['Lady','Countess','Capt','Col','Don','Dr','Major','Rev','Sir','Jonkheer','Dona']\n",
    "    df['Title'] = df['Title'].replace(rare_titles, 'Rare')\n",
    "    df['Title'] = df['Title'].replace({'Mlle':'Miss','Ms':'Miss','Mme':'Mrs'})\n",
    "\n",
    "# Family size and IsAlone\n",
    "if set(['SibSp','Parch']).issubset(df.columns):\n",
    "    df['FamilySize'] = df['SibSp'] + df['Parch'] + 1\n",
    "    df['IsAlone'] = (df['FamilySize'] == 1).astype(int)\n",
    "\n",
    "# Age bins\n",
    "if 'Age' in df.columns:\n",
    "    df['AgeBin'] = pd.cut(df['Age'], bins=[0,12,18,35,60,120], labels=['Child','Teen','YoungAdult','Adult','Senior'])\n"
   ]
  },
  {
   "cell_type": "code",
   "execution_count": 14,
   "id": "c45dd5ca-6e21-46dd-9795-86b9e676aa2c",
   "metadata": {},
   "outputs": [
    {
     "data": {
      "image/png": "[encoded data removed]",
      "text/plain": [
       "<Figure size 600x400 with 1 Axes>"
      ]
     },
     "metadata": {},
     "output_type": "display_data"
    },
    {
     "data": {
      "image/png": "[encoded data removed]",
      "text/plain": [
       "<Figure size 1200x400 with 2 Axes>"
      ]
     },
     "metadata": {},
     "output_type": "display_data"
    }
   ],
   "source": [
    "# Survival counts (if Survived exists)\n",
    "if 'Survived' in df.columns:\n",
    "    plt.figure(figsize=(6,4))\n",
    "    sns.countplot(x='Survived', data=df)\n",
    "    plt.xticks([0,1], ['Died','Survived'])\n",
    "    plt.title('Survival Counts')\n",
    "    plt.savefig('01_survived_count.png', bbox_inches='tight')\n",
    "    plt.show()\n",
    "\n",
    "# Age and Fare distributions\n",
    "fig, axs = plt.subplots(1,2,figsize=(12,4))\n",
    "if 'Age' in df.columns:\n",
    "    sns.histplot(df['Age'].dropna(), bins=25, ax=axs[0])\n",
    "    axs[0].set_title('Age distribution')\n",
    "if 'Fare' in df.columns:\n",
    "    sns.histplot(df['Fare'].dropna(), bins=25, ax=axs[1])\n",
    "    axs[1].set_title('Fare distribution')\n",
    "plt.savefig('02_age_fare_hist.png', bbox_inches='tight')\n",
    "plt.show()\n"
   ]
  },
  {
   "cell_type": "code",
   "execution_count": 15,
   "id": "31e18291-add4-4169-89e8-c1f4fe267329",
   "metadata": {},
   "outputs": [],
   "source": [
    "# survival by Sex and Pclass\n",
    "if 'Survived' in df.columns and 'Sex' in df.columns:\n",
    "    print(\"Survival rate by Sex (%)\")\n",
    "    print(df.groupby('Sex')['Survived'].mean().mul(100).round(1))\n",
    "\n",
    "if 'Survived' in df.columns and 'Pclass' in df.columns:\n",
    "    print(\"\\nSurvival rate by Pclass (%)\")\n",
    "    print(df.groupby('Pclass')['Survived'].mean().mul(100).round(1))\n",
    "\n",
    "# barplots\n",
    "if 'Survived' in df.columns and 'Sex' in df.columns:\n",
    "    plt.figure(figsize=(6,4))\n",
    "    sns.barplot(x='Sex', y='Survived', data=df)\n",
    "    plt.title('Survival rate by Sex')\n",
    "    plt.savefig('03_survival_by_sex.png', bbox_inches='tight')\n",
    "    plt.show()\n",
    "\n",
    "if 'Survived' in df.columns and 'Pclass' in df.columns:\n",
    "    plt.figure(figsize=(6,4))\n",
    "    sns.barplot(x='Pclass', y='Survived', data=df, order=[1,2,3])\n",
    "    plt.title('Survival rate by Pclass')\n",
    "    plt.savefig('04_survival_by_pclass.png', bbox_inches='tight')\n",
    "    plt.show()\n"
   ]
  },
  {
   "cell_type": "code",
   "execution_count": 16,
   "id": "f435126e-29ae-438a-9116-e1e2ce8ab4fa",
   "metadata": {},
   "outputs": [],
   "source": [
    "if 'Age' in df.columns and 'Survived' in df.columns:\n",
    "    plt.figure(figsize=(8,5))\n",
    "    sns.boxplot(x='Survived', y='Age', data=df)\n",
    "    plt.title('Age distribution by Survival')\n",
    "    plt.savefig('05_age_by_survival.png', bbox_inches='tight')\n",
    "    plt.show()\n",
    "\n",
    "# Deck or Embarked vs Survived\n",
    "if 'Deck' in df.columns and 'Survived' in df.columns:\n",
    "    plt.figure(figsize=(10,4))\n",
    "    sns.barplot(x='Deck', y='Survived', data=df, order=sorted(df['Deck'].unique()))\n",
    "    plt.title('Survival by Deck')\n",
    "    plt.savefig('06_survival_by_deck.png', bbox_inches='tight')\n",
    "    plt.show()\n",
    "\n",
    "if 'Embarked' in df.columns and 'Survived' in df.columns:\n",
    "    plt.figure(figsize=(6,4))\n",
    "    sns.barplot(x='Embarked', y='Survived', data=df)\n",
    "    plt.title('Survival by Embarked')\n",
    "    plt.savefig('07_survival_by_embarked.png', bbox_inches='tight')\n",
    "    plt.show()\n"
   ]
  },
  {
   "cell_type": "code",
   "execution_count": 17,
   "id": "56c27d23-c836-4473-b7f5-d4a47430c59d",
   "metadata": {},
   "outputs": [
    {
     "data": {
      "image/png": "[encoded data removed]",
      "text/plain": [
       "<Figure size 800x600 with 2 Axes>"
      ]
     },
     "metadata": {},
     "output_type": "display_data"
    }
   ],
   "source": [
    "num_cols = [c for c in df.select_dtypes(include=[np.number]).columns if df[c].nunique()>1]\n",
    "if len(num_cols) > 1:\n",
    "    plt.figure(figsize=(8,6))\n",
    "    sns.heatmap(df[num_cols].corr(), annot=True, fmt=\".2f\", cmap='vlag', center=0)\n",
    "    plt.title('Correlation matrix (numeric columns)')\n",
    "    plt.savefig('08_corr_heatmap.png', bbox_inches='tight')\n",
    "    plt.show()\n"
   ]
  },
  {
   "cell_type": "code",
   "execution_count": 18,
   "id": "6a17d82c-3cce-4ff1-9c26-02a2e4d88cdb",
   "metadata": {},
   "outputs": [],
   "source": [
    "from scipy.stats import chi2_contingency, ttest_ind\n",
    "\n",
    "# Chi-square test for Sex vs Survived\n",
    "if 'Sex' in df.columns and 'Survived' in df.columns:\n",
    "    ct = pd.crosstab(df['Sex'], df['Survived'])\n",
    "    chi2, p, dof, ex = chi2_contingency(ct)\n",
    "    print(\"Chi-square p-value (Sex vs Survived):\", p)\n",
    "\n",
    "# T-test: Age differences\n",
    "if 'Age' in df.columns and 'Survived' in df.columns:\n",
    "    a1 = df[df['Survived']==1]['Age'].dropna()\n",
    "    a0 = df[df['Survived']==0]['Age'].dropna()\n",
    "    if len(a1)>2 and len(a0)>2:\n",
    "        tstat, p_age = ttest_ind(a1, a0, equal_var=False)\n",
    "        print(\"T-test p-value (Age difference between survived/died):\", p_age)\n"
   ]
  },
  {
   "cell_type": "code",
   "execution_count": 21,
   "id": "178228f0-62e1-4976-9e14-e227ed4fb017",
   "metadata": {},
   "outputs": [],
   "source": [
    "\n",
    "from IPython.display import display\n",
    "\n",
    "def show_survival_by(col):\n",
    "    if col in df.columns and 'Survived' in df.columns:\n",
    "        t = df.groupby(col)['Survived'].agg(['count','sum','mean']).rename(columns={'mean':'survival_rate'})\n",
    "        t['survival_%'] = (t['survival_rate']*100).round(1)\n",
    "        display(t.sort_values('survival_%', ascending=False))\n",
    "\n",
    "for col in ['Sex','Pclass','Title','Embarked','Deck','IsAlone','AgeBin','FareBin','FamilySize']:\n",
    "    if col in df.columns:\n",
    "        print(\"\\n=== Survival by\", col, \"===\")\n",
    "        show_survival_by(col)\n"
   ]
  },
  {
   "cell_type": "code",
   "execution_count": 22,
   "id": "1bfbafc8-633e-49ae-ae4e-7b844c134f07",
   "metadata": {},
   "outputs": [
    {
     "name": "stdout",
     "output_type": "stream",
     "text": [
      "Categorical variable chi-square tests vs Survived:\n",
      "\n",
      "Numeric variable tests (Survived vs Died):\n"
     ]
    }
   ],
   "source": [
    "\n",
    "from scipy.stats import chi2_contingency, ttest_ind, mannwhitneyu\n",
    "\n",
    "print(\"Categorical variable chi-square tests vs Survived:\")\n",
    "cat_cols = [c for c in df.columns if (df[c].dtype=='object' or df[c].nunique()<=10) and c!='Survived']\n",
    "for c in cat_cols:\n",
    "    try:\n",
    "        ct = pd.crosstab(df[c], df['Survived'])\n",
    "        if ct.shape[0] > 1:\n",
    "            chi2, p, dof, exp = chi2_contingency(ct)\n",
    "            print(f\"  {c:12s}  p = {p:.4f}\")\n",
    "    except Exception as e:\n",
    "        print(f\"  {c:12s}  skipped ({e})\")\n",
    "\n",
    "# Numeric tests (Age, Fare) - compare survived vs died\n",
    "print(\"\\nNumeric variable tests (Survived vs Died):\")\n",
    "for num in ['Age','Fare']:\n",
    "    if num in df.columns:\n",
    "        a = df[df['Survived']==1][num].dropna()\n",
    "        b = df[df['Survived']==0][num].dropna()\n",
    "        if len(a)>2 and len(b)>2:\n",
    "            # Mann-Whitney if non-normal (safer)\n",
    "            stat, p = mannwhitneyu(a, b, alternative='two-sided')\n",
    "            print(f\"  {num:6s}  Mann-Whitney p = {p:.4f}  (survived n={len(a)}, died n={len(b)})\")\n"
   ]
  },
  {
   "cell_type": "code",
   "execution_count": 23,
   "id": "e02815ba-6d84-473d-95d2-49e3bb6ad4a6",
   "metadata": {},
   "outputs": [
    {
     "name": "stdout",
     "output_type": "stream",
     "text": [
      "Saved figures: ['fig_age_fare_hist.png', 'fig_corr_heatmap.png', 'fig_survival_count.png']\n"
     ]
    }
   ],
   "source": [
    "\n",
    "import matplotlib.pyplot as plt\n",
    "\n",
    "# 1 - Survived count (if exists)\n",
    "if 'Survived' in df.columns:\n",
    "    plt.figure(figsize=(6,4))\n",
    "    sns.countplot(x='Survived', data=df)\n",
    "    plt.xticks([0,1], ['Died','Survived'])\n",
    "    plt.title('Survival Counts')\n",
    "    plt.savefig('fig_survival_count.png', bbox_inches='tight')\n",
    "    plt.close()\n",
    "\n",
    "# 2 - Age & Fare histograms\n",
    "fig, axs = plt.subplots(1,2,figsize=(12,4))\n",
    "if 'Age' in df.columns:\n",
    "    sns.histplot(df['Age'].dropna(), bins=25, ax=axs[0])\n",
    "    axs[0].set_title('Age distribution')\n",
    "if 'Fare' in df.columns:\n",
    "    sns.histplot(df['Fare'].dropna(), bins=25, ax=axs[1])\n",
    "    axs[1].set_title('Fare distribution')\n",
    "plt.savefig('fig_age_fare_hist.png', bbox_inches='tight')\n",
    "plt.close()\n",
    "\n",
    "# 3 - Survival by Sex and Pclass\n",
    "if set(['Survived','Sex']).issubset(df.columns):\n",
    "    plt.figure(figsize=(6,4))\n",
    "    sns.barplot(x='Sex', y='Survived', data=df)\n",
    "    plt.title('Survival rate by Sex')\n",
    "    plt.savefig('fig_survival_by_sex.png', bbox_inches='tight')\n",
    "    plt.close()\n",
    "\n",
    "if set(['Survived','Pclass']).issubset(df.columns):\n",
    "    plt.figure(figsize=(6,4))\n",
    "    sns.barplot(x='Pclass', y='Survived', data=df, order=[1,2,3])\n",
    "    plt.title('Survival rate by Pclass')\n",
    "    plt.savefig('fig_survival_by_pclass.png', bbox_inches='tight')\n",
    "    plt.close()\n",
    "\n",
    "# 4 - Age by Survival boxplot\n",
    "if set(['Age','Survived']).issubset(df.columns):\n",
    "    plt.figure(figsize=(8,5))\n",
    "    sns.boxplot(x='Survived', y='Age', data=df)\n",
    "    plt.title('Age by Survival')\n",
    "    plt.savefig('fig_age_by_survival.png', bbox_inches='tight')\n",
    "    plt.close()\n",
    "\n",
    "# 5 - Correlation heatmap (if numeric)\n",
    "num_cols = [c for c in df.select_dtypes(include=[np.number]).columns if df[c].nunique() > 1]\n",
    "if len(num_cols) > 1:\n",
    "    plt.figure(figsize=(8,6))\n",
    "    sns.heatmap(df[num_cols].corr(), annot=True, fmt=\".2f\", cmap='vlag', center=0)\n",
    "    plt.title('Correlation matrix')\n",
    "    plt.savefig('fig_corr_heatmap.png', bbox_inches='tight')\n",
    "    plt.close()\n",
    "\n",
    "print(\"Saved figures:\", [f for f in os.listdir('.') if f.startswith('fig_')])\n"
   ]
  },
  {
   "cell_type": "markdown",
   "id": "b266d74f-6d16-4b30-a607-1bcd1c3a239a",
   "metadata": {},
   "source": [
    "### Observation: Overall Survival\n",
    "- About **38% of passengers survived** and **62% died**.  \n",
    "- This shows the tragedy had a high fatality rate.  \n",
    "- The target variable (Survived) is imbalanced, but not extremely (38/62).\n"
   ]
  },
  {
   "cell_type": "markdown",
   "id": "b0afe36d-8166-4cbc-97c6-13e8c84fc5d6",
   "metadata": {},
   "source": [
    "### Observation: Age Distribution\n",
    "- Most passengers were **young adults (20 to 40 years old)**.  \n",
    "- Very few elderly passengers (>60).  \n",
    "- Children (<12) formed a small group but are important for survival analysis.\n",
    "\n",
    "### Observation: Fare Distribution\n",
    "- Fares are **right-skewed**: most passengers paid a small fare,  \n",
    "  but a few paid very high fares (>200).  \n",
    "- This suggests a log-transform or binning may help in modeling.  \n"
   ]
  },
  {
   "cell_type": "markdown",
   "id": "53c9ef04-7d63-4855-9042-60c5bf5f1312",
   "metadata": {},
   "source": [
    "### Observation: Survival by Sex\n",
    "- **74% of females survived** compared to only **19% of males**.  \n",
    "- Sex was the single most important factor in survival.  \n",
    "- This supports the \"women and children first\" evacuation rule.\n"
   ]
  },
  {
   "cell_type": "markdown",
   "id": "ca31b064-6615-4968-8512-af7949ded6ea",
   "metadata": {},
   "source": [
    "### Observation: Survival by Pclass\n",
    "- **1st Class: 63% survived**  \n",
    "- **2nd Class: 47% survived**  \n",
    "- **3rd Class: 24% survived**  \n",
    "- Higher class passengers had much better chances of survival.  \n",
    "- This shows strong socio-economic effects in survival.\n"
   ]
  },
  {
   "cell_type": "markdown",
   "id": "a2a05543-a546-4370-9662-b763bf29501f",
   "metadata": {},
   "source": [
    "### Observation: Interaction between Pclass and Sex\n",
    "- **Women in 1st class had the highest survival rate (97%)**.  \n",
    "- **Men in 3rd class had the lowest survival rate (14%)**.  \n",
    "- Gender and class together determined survival chances.  \n",
    "- This confirms that both social status and gender influenced priority.\n"
   ]
  },
  {
   "cell_type": "markdown",
   "id": "5a0947fb-dacc-4f73-b7b1-937757a8e5f2",
   "metadata": {},
   "source": [
    "### Observation: Age vs Survival\n",
    "- Children had a noticeably higher survival rate than adults.  \n",
    "- Median age of survivors ≈ **28 years**, while non-survivors ≈ **30 years**.  \n",
    "- Although not huge, the difference shows younger passengers fared slightly better.  \n"
   ]
  },
  {
   "cell_type": "markdown",
   "id": "96b1bb66-f79f-461c-acb6-206e79a26023",
   "metadata": {},
   "source": [
    "### Observation: Correlation Matrix\n",
    "- **Survived** correlates positively with **Fare (0.26)** and negatively with **Pclass (-0.34)**.  \n",
    "- **FamilySize** is correlated with **SibSp** and **Parch** (since it’s derived).  \n",
    "- **IsAlone** shows a weak negative correlation with survival.  \n",
    "- No multicollinearity problem except between engineered family features.\n"
   ]
  },
  {
   "cell_type": "markdown",
   "id": "9b2e74c1-63bf-41e5-8c39-082a541c08d9",
   "metadata": {},
   "source": [
    "## Summary of Findings\n",
    "1. **Sex:** Females had a survival rate of **74%**, while males had only **19%**.  \n",
    "2. **Class:** 1st class = **63%**, 2nd = **47%**, 3rd = **24%** survival.  \n",
    "3. **Age:** Children survived more often than adults; survivors were slightly younger.  \n",
    "4. **Fare:** Passengers who paid higher fares were more likely to survive.  \n",
    "5. **Interaction:** Women in 1st class = **97% survival**, Men in 3rd class = **14% survival**.  \n",
    "\n",
    "## Limitations\n",
    "- Missing values in Age and Cabin required imputation.  \n",
    "- Cabin data was too incomplete to analyze properly.  \n",
    "- Observational dataset: cannot prove causation, only associations.  \n",
    "\n",
    "## Next Steps\n",
    "- Train predictive models using key features (Sex, Pclass, Age, Fare, FamilySize, Title).  \n",
    "- Compare Logistic Regression vs Random Forest.  \n",
    "- Use cross-validation to estimate accuracy.  \n"
   ]
  },
  {
   "cell_type": "code",
   "execution_count": null,
   "id": "30a3b949-4b88-42ac-a0eb-a57ae7d8b6a6",
   "metadata": {},
   "outputs": [],
   "source": []
  }
 ],
 "metadata": {
  "kernelspec": {
   "display_name": "Python 3 (ipykernel)",
   "language": "python",
   "name": "python3"
  },
  "language_info": {
   "codemirror_mode": {
    "name": "ipython",
    "version": 3
   },
   "file_extension": ".py",
   "mimetype": "text/x-python",
   "name": "python",
   "nbconvert_exporter": "python",
   "pygments_lexer": "ipython3",
   "version": "3.13.5"
  }
 },
 "nbformat": 4,
 "nbformat_minor": 5
}
